{
  "nbformat": 4,
  "nbformat_minor": 0,
  "metadata": {
    "colab": {
      "name": "BAYU_ESTIAWAN-11190430.ipynb",
      "provenance": []
    },
    "kernelspec": {
      "name": "python3",
      "display_name": "Python 3"
    }
  },
  "cells": [
    {
      "cell_type": "code",
      "metadata": {
        "id": "vmYb4kJ-aS1W",
        "outputId": "2f0c7f2d-23c7-4c87-aa4b-f44795a407d2",
        "colab": {
          "base_uri": "https://localhost:8080/"
        }
      },
      "source": [
        "def luas_limas_segi_empat(Alas_limas, Tinggi_limas):\n",
        "    Alas_limas = int(input(\"Masukkan alas :\"))\n",
        "    Tinggi_limas = int(input(\"Masukkan tinggi :\"))\n",
        "    luas = (Alas_limas*Alas_limas) + (4*0.5*Alas_limas*Tinggi_limas)\n",
        "    return luas\n",
        "\n",
        "print(\"Luas : %d\" % (luas_limas_segi_empat (input, input)))"
      ],
      "execution_count": 16,
      "outputs": [
        {
          "output_type": "stream",
          "text": [
            "Masukkan alas :30\n",
            "Masukkan tinggi :23\n",
            "Luas : 2280\n"
          ],
          "name": "stdout"
        }
      ]
    }
  ]
}